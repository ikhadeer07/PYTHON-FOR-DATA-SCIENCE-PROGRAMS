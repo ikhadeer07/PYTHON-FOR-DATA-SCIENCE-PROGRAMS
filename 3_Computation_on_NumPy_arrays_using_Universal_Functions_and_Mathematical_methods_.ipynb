{
  "nbformat": 4,
  "nbformat_minor": 0,
  "metadata": {
    "colab": {
      "provenance": []
    },
    "kernelspec": {
      "name": "python3",
      "display_name": "Python 3"
    },
    "language_info": {
      "name": "python"
    }
  },
  "cells": [
    {
      "cell_type": "code",
      "execution_count": 4,
      "metadata": {
        "colab": {
          "base_uri": "https://localhost:8080/"
        },
        "id": "oXwg1TgGDWqx",
        "outputId": "35004bb0-1cb6-4fb8-c930-1b4c4aaa6139"
      },
      "outputs": [
        {
          "output_type": "stream",
          "name": "stdout",
          "text": [
            "1. Addition: [ 7  9 11 13 15]\n",
            "2. Subtraction: [-5 -5 -5 -5 -5]\n",
            "3. Multiplication: [ 6 14 24 36 50]\n",
            "4. Division: [0.16666667 0.28571429 0.375      0.44444444 0.5       ]\n",
            "5. Exponentiation: [      1     128    6561  262144 9765625]\n",
            "6. Sin values: [ 0.84147098  0.90929743  0.14112001 -0.7568025  -0.95892427]\n",
            "7. Cos values: [ 0.54030231 -0.41614684 -0.9899925  -0.65364362  0.28366219]\n",
            "8. Tan values: [ 1.55740772 -2.18503986 -0.14254654  1.15782128 -3.38051501]\n",
            "9. Logarithm: [0.         0.69314718 1.09861229 1.38629436 1.60943791]\n",
            "10. Log base 10: [0.         0.30103    0.47712125 0.60205999 0.69897   ]\n",
            "11. Log base 2: [0.         1.         1.5849625  2.         2.32192809]\n",
            "12. Mean: 3.0\n",
            "13. Median: 3.0\n",
            "14. Standard Deviation: 1.4142135623730951\n",
            "15. Variance: 2.0\n",
            "16. Greater than comparison: [False False False False False]\n",
            "17. Less than comparison: [ True  True  True  True  True]\n",
            "18. Equal to comparison: [False False False False False]\n",
            "19. Sorted array: [1 2 3 4 5]\n",
            "20. Concatenated array: [ 1  2  3  4  5  6  7  8  9 10]\n",
            "21. Element at index 2: 3\n",
            "22. Sliced array: [2 3 4]\n"
          ]
        }
      ],
      "source": [
        "import numpy as np\n",
        "\n",
        "# 1. Creating NumPy arrays\n",
        "arr1 = np.array([1, 2, 3, 4, 5])\n",
        "arr2 = np.array([6, 7, 8, 9, 10])\n",
        "\n",
        "# 2. Basic arithmetic operations\n",
        "addition = np.add(arr1, arr2)\n",
        "subtraction = np.subtract(arr1, arr2)\n",
        "multiplication = np.multiply(arr1, arr2)\n",
        "division = np.divide(arr1, arr2)\n",
        "exponentiation = np.power(arr1, arr2)\n",
        "\n",
        "# 3. Trigonometric functions\n",
        "sin_values = np.sin(arr1)\n",
        "cos_values = np.cos(arr1)\n",
        "tan_values = np.tan(arr1)\n",
        "\n",
        "# 4. Logarithmic functions\n",
        "logarithm = np.log(arr1)\n",
        "log_base10 = np.log10(arr1)\n",
        "log_base2 = np.log2(arr1)\n",
        "\n",
        "# 5. Statistical functions\n",
        "mean = np.mean(arr1)\n",
        "median = np.median(arr1)\n",
        "standard_deviation = np.std(arr1)\n",
        "variance = np.var(arr1)\n",
        "\n",
        "# 6. Array comparison\n",
        "greater_than = np.greater(arr1, arr2)\n",
        "less_than = np.less(arr1, arr2)\n",
        "equal_to = np.equal(arr1, arr2)\n",
        "\n",
        "# 7. Array sorting\n",
        "sorted_arr = np.sort(arr1)\n",
        "\n",
        "\n",
        "# 8. Concatenating arrays\n",
        "concatenated_arr = np.concatenate((arr1, arr2))\n",
        "\n",
        "# 9. Indexing and slicing arrays\n",
        "element = arr1[2]\n",
        "slice_arr = arr1[1:4]\n",
        "\n",
        "# Printing the results\n",
        "print(\"1. Addition:\", addition)\n",
        "print(\"2. Subtraction:\", subtraction)\n",
        "print(\"3. Multiplication:\", multiplication)\n",
        "print(\"4. Division:\", division)\n",
        "print(\"5. Exponentiation:\", exponentiation)\n",
        "print(\"6. Sin values:\", sin_values)\n",
        "print(\"7. Cos values:\", cos_values)\n",
        "print(\"8. Tan values:\", tan_values)\n",
        "print(\"9. Logarithm:\", logarithm)\n",
        "print(\"10. Log base 10:\", log_base10)\n",
        "print(\"11. Log base 2:\", log_base2)\n",
        "print(\"12. Mean:\", mean)\n",
        "print(\"13. Median:\", median)\n",
        "print(\"14. Standard Deviation:\", standard_deviation)\n",
        "print(\"15. Variance:\", variance)\n",
        "print(\"16. Greater than comparison:\", greater_than)\n",
        "print(\"17. Less than comparison:\", less_than)\n",
        "print(\"18. Equal to comparison:\", equal_to)\n",
        "print(\"19. Sorted array:\", sorted_arr)\n",
        "print(\"20. Concatenated array:\", concatenated_arr)\n",
        "print(\"21. Element at index 2:\", element)\n",
        "print(\"22. Sliced array:\", slice_arr)\n"
      ]
    }
  ]
}