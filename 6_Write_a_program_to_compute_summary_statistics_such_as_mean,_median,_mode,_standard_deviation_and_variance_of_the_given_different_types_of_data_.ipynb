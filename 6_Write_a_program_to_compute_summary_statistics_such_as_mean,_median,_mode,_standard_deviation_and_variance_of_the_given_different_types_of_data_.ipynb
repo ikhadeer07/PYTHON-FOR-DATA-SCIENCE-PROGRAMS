{
  "nbformat": 4,
  "nbformat_minor": 0,
  "metadata": {
    "colab": {
      "provenance": []
    },
    "kernelspec": {
      "name": "python3",
      "display_name": "Python 3"
    },
    "language_info": {
      "name": "python"
    }
  },
  "cells": [
    {
      "cell_type": "code",
      "execution_count": 1,
      "metadata": {
        "colab": {
          "base_uri": "https://localhost:8080/"
        },
        "id": "QG3jPlJpIRyw",
        "outputId": "ee01abb1-62d9-4f20-efc7-73c86cda8eea"
      },
      "outputs": [
        {
          "output_type": "stream",
          "name": "stdout",
          "text": [
            "Summary Statistics:\n",
            "Data: [10, 12, 15, 18, 20, 22, 25, 28, 30]\n",
            "Mean: 20\n",
            "Median: 20\n",
            "Mode: 10\n",
            "Standard Deviation: 6.946221994724902\n",
            "Variance: 48.25\n"
          ]
        }
      ],
      "source": [
        "import statistics\n",
        "\n",
        "# Given data\n",
        "data = [10, 12, 15, 18, 20, 22, 25, 28, 30]\n",
        "\n",
        "# Compute mean\n",
        "mean = statistics.mean(data)\n",
        "\n",
        "# Compute median\n",
        "median = statistics.median(data)\n",
        "\n",
        "# Compute mode\n",
        "mode = statistics.mode(data)\n",
        "\n",
        "# Compute standard deviation\n",
        "stdev = statistics.stdev(data)\n",
        "\n",
        "# Compute variance\n",
        "variance = statistics.variance(data)\n",
        "\n",
        "# Print summary statistics\n",
        "print(\"Summary Statistics:\")\n",
        "print(\"Data:\", data)\n",
        "print(\"Mean:\", mean)\n",
        "print(\"Median:\", median)\n",
        "print(\"Mode:\", mode)\n",
        "print(\"Standard Deviation:\", stdev)\n",
        "print(\"Variance:\", variance)\n"
      ]
    }
  ]
}