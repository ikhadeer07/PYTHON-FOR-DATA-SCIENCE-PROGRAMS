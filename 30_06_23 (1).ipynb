{
  "nbformat": 4,
  "nbformat_minor": 0,
  "metadata": {
    "colab": {
      "provenance": []
    },
    "kernelspec": {
      "name": "python3",
      "display_name": "Python 3"
    },
    "language_info": {
      "name": "python"
    }
  },
  "cells": [
    {
      "cell_type": "code",
      "execution_count": 1,
      "metadata": {
        "colab": {
          "base_uri": "https://localhost:8080/",
          "height": 472
        },
        "id": "pS0BOxINPVUX",
        "outputId": "21cebffb-69f0-4b1b-be7d-87e2d1d9318d"
      },
      "outputs": [
        {
          "output_type": "display_data",
          "data": {
            "text/plain": [
              "<Figure size 640x480 with 1 Axes>"
            ],
            "image/png": "[encoded data removed]"
          },
          "metadata": {}
        }
      ],
      "source": [
        "#10th exp Write a program to demonstrate Linear Regression analysis with residual plots on a given data set.\n",
        "\n",
        "\n",
        "import numpy as np\n",
        "import matplotlib.pyplot as plt\n",
        "\n",
        "# Sample dataset\n",
        "x = np.array([1, 2, 3, 4, 5])\n",
        "y = np.array([3, 4, 6, 8, 8])\n",
        "\n",
        "# Calculate linear regression parameters\n",
        "slope, intercept = np.polyfit(x, y, 1)\n",
        "\n",
        "# Calculate predicted values\n",
        "y_pred = slope * x + intercept\n",
        "\n",
        "# Calculate residuals\n",
        "residuals = y - y_pred\n",
        "\n",
        "# Plotting the data points\n",
        "plt.scatter(x, y, color='blue', label='Actual data')\n",
        "\n",
        "# Plotting the regression line\n",
        "plt.plot(x, y_pred, color='red', label='Linear regression')\n",
        "\n",
        "# Plotting the residuals\n",
        "plt.scatter(x, residuals, color='green', label='Residuals')\n",
        "\n",
        "plt.axhline(0, color='black', linestyle='--')  # Horizontal line at y=0\n",
        "\n",
        "plt.xlabel('X')\n",
        "plt.ylabel('Y')\n",
        "plt.title('Linear Regression Analysis')\n",
        "plt.legend()\n",
        "plt.show()\n"
      ]
    },
    {
      "cell_type": "code",
      "source": [
        "#11th Write a program to implement the Naïve Bayesian classifier for a sample training data set\n",
        "#stored as a .CSV file. Compute the accuracy of the classifier, considering few test data sets.\n",
        "\n",
        "import pandas as pd\n",
        "from sklearn.preprocessing import LabelEncoder\n",
        "from sklearn.naive_bayes import GaussianNB\n",
        "from sklearn.metrics import accuracy_score\n",
        "from sklearn.model_selection import train_test_split\n",
        "\n",
        "# Load data from CSV\n",
        "data = pd.read_csv('tennis.csv')\n",
        "print(\"The first 5 values of data:\\n\", data.head())\n",
        "\n",
        "X = data.iloc[:, :-1]\n",
        "print(\"\\nThe first 5 values of train data:\\n\", X.head())\n",
        "\n",
        "y = data.iloc[:, -1]\n",
        "print(\"\\nThe first 5 values of Train output:\\n\", y.head())\n",
        "\n",
        "le = LabelEncoder()\n",
        "X = X.apply(le.fit_transform)\n",
        "y = le.fit_transform(y)\n",
        "print(\"\\nNow the Train data is:\\n\", X.head())\n",
        "print(\"\\nNow the Train output is:\\n\", y)\n",
        "\n",
        "X_train, X_test, y_train, y_test = train_test_split(X, y, test_size=0.20)\n",
        "\n",
        "classifier = GaussianNB()\n",
        "classifier.fit(X_train, y_train)\n",
        "\n",
        "print(\"\\nAccuracy is:\", accuracy_score(classifier.predict(X_test), y_test))\n"
      ],
      "metadata": {
        "colab": {
          "base_uri": "https://localhost:8080/"
        },
        "id": "LiD9mBAVR4OP",
        "outputId": "8f9d40cb-a818-426d-c440-a72c93866357"
      },
      "execution_count": 4,
      "outputs": [
        {
          "output_type": "stream",
          "name": "stdout",
          "text": [
            "The first 5 values of data:\n",
            "   day   outlook  temp humidity    wind play\n",
            "0  D1     Sunny   Hot     High    Weak   No\n",
            "1  D2     Sunny   Hot     High  Strong   No\n",
            "2  D3  Overcast   Hot     High    Weak  Yes\n",
            "3  D4      Rain  Mild     High    Weak  Yes\n",
            "4  D5      Rain  Cool   Normal    Weak  Yes\n",
            "\n",
            "The first 5 values of train data:\n",
            "   day   outlook  temp humidity    wind\n",
            "0  D1     Sunny   Hot     High    Weak\n",
            "1  D2     Sunny   Hot     High  Strong\n",
            "2  D3  Overcast   Hot     High    Weak\n",
            "3  D4      Rain  Mild     High    Weak\n",
            "4  D5      Rain  Cool   Normal    Weak\n",
            "\n",
            "The first 5 values of Train output:\n",
            " 0     No\n",
            "1     No\n",
            "2    Yes\n",
            "3    Yes\n",
            "4    Yes\n",
            "Name: play, dtype: object\n",
            "\n",
            "Now the Train data is:\n",
            "    day  outlook  temp  humidity  wind\n",
            "0    0        2     1         0     1\n",
            "1    6        2     1         0     0\n",
            "2    7        0     1         0     1\n",
            "3    8        1     2         0     1\n",
            "4    9        1     0         1     1\n",
            "\n",
            "Now the Train output is:\n",
            " [0 0 1 1 1 0 1 0 1 1 1 1 1 0]\n",
            "\n",
            "Accuracy is: 0.3333333333333333\n"
          ]
        }
      ]
    },
    {
      "cell_type": "code",
      "source": [
        "#12th Write a program to implement k-Nearest Neighbour algorithm to classify the iris data set.\n",
        "#Print both correct and wrong predictions using Python ML library classes.\n",
        "\n",
        "from sklearn.datasets import load_iris\n",
        "from sklearn.model_selection import train_test_split\n",
        "from sklearn.neighbors import KNeighborsClassifier\n",
        "from sklearn.metrics import accuracy_score\n",
        "\n",
        "# Load the Iris dataset\n",
        "iris = load_iris()\n",
        "X = iris.data\n",
        "y = iris.target\n",
        "\n",
        "# Split the dataset into training and test sets\n",
        "X_train, X_test, y_train, y_test = train_test_split(X, y, test_size=0.2, random_state=42)\n",
        "\n",
        "# Create a k-NN classifier with k=3\n",
        "knn = KNeighborsClassifier(n_neighbors=3)\n",
        "\n",
        "# Fit the classifier to the training data\n",
        "knn.fit(X_train, y_train)\n",
        "\n",
        "# Predict the classes for the test set\n",
        "y_pred = knn.predict(X_test)\n",
        "\n",
        "# Compare the predicted classes with the true classes and print the results\n",
        "print(\"Correct predictions:\")\n",
        "correct_predictions = 0\n",
        "for i in range(len(y_test)):\n",
        "    if y_pred[i] == y_test[i]:\n",
        "        print(f\"Predicted: {iris.target_names[y_pred[i]]}\\tActual: {iris.target_names[y_test[i]]}\")\n",
        "        correct_predictions += 1\n",
        "print(f\"\\nTotal correct predictions: {correct_predictions}/{len(y_test)}\")\n",
        "print(f\"Accuracy: {accuracy_score(y_test, y_pred) * 100:.2f}%\")\n",
        "\n",
        "print(\"\\nWrong predictions:\")\n",
        "for i in range(len(y_test)):\n",
        "    if y_pred[i] != y_test[i]:\n",
        "        print(f\"Predicted: {iris.target_names[y_pred[i]]}\\tActual: {iris.target_names[y_test[i]]}\")"
      ],
      "metadata": {
        "colab": {
          "base_uri": "https://localhost:8080/"
        },
        "id": "TaoEMTZaWI9O",
        "outputId": "6b49c5ac-6b48-49f7-d26d-381ad4cef194"
      },
      "execution_count": 5,
      "outputs": [
        {
          "output_type": "stream",
          "name": "stdout",
          "text": [
            "Correct predictions:\n",
            "Predicted: versicolor\tActual: versicolor\n",
            "Predicted: setosa\tActual: setosa\n",
            "Predicted: virginica\tActual: virginica\n",
            "Predicted: versicolor\tActual: versicolor\n",
            "Predicted: versicolor\tActual: versicolor\n",
            "Predicted: setosa\tActual: setosa\n",
            "Predicted: versicolor\tActual: versicolor\n",
            "Predicted: virginica\tActual: virginica\n",
            "Predicted: versicolor\tActual: versicolor\n",
            "Predicted: versicolor\tActual: versicolor\n",
            "Predicted: virginica\tActual: virginica\n",
            "Predicted: setosa\tActual: setosa\n",
            "Predicted: setosa\tActual: setosa\n",
            "Predicted: setosa\tActual: setosa\n",
            "Predicted: setosa\tActual: setosa\n",
            "Predicted: versicolor\tActual: versicolor\n",
            "Predicted: virginica\tActual: virginica\n",
            "Predicted: versicolor\tActual: versicolor\n",
            "Predicted: versicolor\tActual: versicolor\n",
            "Predicted: virginica\tActual: virginica\n",
            "Predicted: setosa\tActual: setosa\n",
            "Predicted: virginica\tActual: virginica\n",
            "Predicted: setosa\tActual: setosa\n",
            "Predicted: virginica\tActual: virginica\n",
            "Predicted: virginica\tActual: virginica\n",
            "Predicted: virginica\tActual: virginica\n",
            "Predicted: virginica\tActual: virginica\n",
            "Predicted: virginica\tActual: virginica\n",
            "Predicted: setosa\tActual: setosa\n",
            "Predicted: setosa\tActual: setosa\n",
            "\n",
            "Total correct predictions: 30/30\n",
            "Accuracy: 100.00%\n",
            "\n",
            "Wrong predictions:\n"
          ]
        }
      ]
    },
    {
      "cell_type": "code",
      "source": [
        "#13TH PROGRAM Write a program to implement k-Means clustering algorithm to cluster the set of data stored\n",
        "#in .CSV file. Compare the results of various “k” values for the quality of clustering.\n",
        "\n",
        "import pandas as pd\n",
        "import numpy as np\n",
        "import matplotlib.pyplot as plt\n",
        "from sklearn.cluster import KMeans\n",
        "from sklearn.metrics import silhouette_score"
      ],
      "metadata": {
        "id": "zsLctcj-eCzc"
      },
      "execution_count": 13,
      "outputs": []
    },
    {
      "cell_type": "code",
      "source": [
        "data = pd.read_csv('OnlineRetail.csv', encoding='unicode_escape')\n",
        "print(data)"
      ],
      "metadata": {
        "colab": {
          "base_uri": "https://localhost:8080/"
        },
        "id": "D4dUFrePe1xs",
        "outputId": "dd3baae2-f1fa-49a7-d5c7-dc49ebac20ad"
      },
      "execution_count": 15,
      "outputs": [
        {
          "output_type": "stream",
          "name": "stdout",
          "text": [
            "       InvoiceNo StockCode                          Description  Quantity  \\\n",
            "0         536365    85123A   WHITE HANGING HEART T-LIGHT HOLDER         6   \n",
            "1         536365     71053                  WHITE METAL LANTERN         6   \n",
            "2         536365    84406B       CREAM CUPID HEARTS COAT HANGER         8   \n",
            "3         536365    84029G  KNITTED UNION FLAG HOT WATER BOTTLE         6   \n",
            "4         536365    84029E       RED WOOLLY HOTTIE WHITE HEART.         6   \n",
            "...          ...       ...                                  ...       ...   \n",
            "541904    581587     22613          PACK OF 20 SPACEBOY NAPKINS        12   \n",
            "541905    581587     22899         CHILDREN'S APRON DOLLY GIRL          6   \n",
            "541906    581587     23254        CHILDRENS CUTLERY DOLLY GIRL          4   \n",
            "541907    581587     23255      CHILDRENS CUTLERY CIRCUS PARADE         4   \n",
            "541908    581587     22138        BAKING SET 9 PIECE RETROSPOT          3   \n",
            "\n",
            "             InvoiceDate  UnitPrice  CustomerID         Country  \n",
            "0       01-12-2010 08:26       2.55     17850.0  United Kingdom  \n",
            "1       01-12-2010 08:26       3.39     17850.0  United Kingdom  \n",
            "2       01-12-2010 08:26       2.75     17850.0  United Kingdom  \n",
            "3       01-12-2010 08:26       3.39     17850.0  United Kingdom  \n",
            "4       01-12-2010 08:26       3.39     17850.0  United Kingdom  \n",
            "...                  ...        ...         ...             ...  \n",
            "541904  09-12-2011 12:50       0.85     12680.0          France  \n",
            "541905  09-12-2011 12:50       2.10     12680.0          France  \n",
            "541906  09-12-2011 12:50       4.15     12680.0          France  \n",
            "541907  09-12-2011 12:50       4.15     12680.0          France  \n",
            "541908  09-12-2011 12:50       4.95     12680.0          France  \n",
            "\n",
            "[541909 rows x 8 columns]\n"
          ]
        }
      ]
    },
    {
      "cell_type": "code",
      "source": [
        "data = data.dropna()"
      ],
      "metadata": {
        "id": "LemUK3Gje-Lf"
      },
      "execution_count": 16,
      "outputs": []
    },
    {
      "cell_type": "code",
      "source": [
        "numeric_columns = data.select_dtypes(include=[np.number]).columns\n",
        "X = data[numeric_columns].values.astype(float)"
      ],
      "metadata": {
        "id": "Vtq0-tqTfCeg"
      },
      "execution_count": 17,
      "outputs": []
    },
    {
      "cell_type": "code",
      "source": [
        "k_values = range(2, 10)"
      ],
      "metadata": {
        "id": "MwkONGp9fGZk"
      },
      "execution_count": 18,
      "outputs": []
    },
    {
      "cell_type": "code",
      "source": [
        "results = []\n",
        "for k in k_values:\n",
        "  kmeans = KMeans(n_clusters=k, n_init=10)\n"
      ],
      "metadata": {
        "id": "iGrrQxfcgHvG"
      },
      "execution_count": 23,
      "outputs": []
    },
    {
      "cell_type": "code",
      "source": [
        "kmeans.fit(X)"
      ],
      "metadata": {
        "colab": {
          "base_uri": "https://localhost:8080/",
          "height": 75
        },
        "id": "ES4HI3a9gQMd",
        "outputId": "59d73032-e109-4935-98df-6c6783e87ab4"
      },
      "execution_count": 24,
      "outputs": [
        {
          "output_type": "execute_result",
          "data": {
            "text/plain": [
              "KMeans(n_clusters=9, n_init=10)"
            ],
            "text/html": [
              "<style>#sk-container-id-1 {color: black;background-color: white;}#sk-container-id-1 pre{padding: 0;}#sk-container-id-1 div.sk-toggleable {background-color: white;}#sk-container-id-1 label.sk-toggleable__label {cursor: pointer;display: block;width: 100%;margin-bottom: 0;padding: 0.3em;box-sizing: border-box;text-align: center;}#sk-container-id-1 label.sk-toggleable__label-arrow:before {content: \"▸\";float: left;margin-right: 0.25em;color: #696969;}#sk-container-id-1 label.sk-toggleable__label-arrow:hover:before {color: black;}#sk-container-id-1 div.sk-estimator:hover label.sk-toggleable__label-arrow:before {color: black;}#sk-container-id-1 div.sk-toggleable__content {max-height: 0;max-width: 0;overflow: hidden;text-align: left;background-color: #f0f8ff;}#sk-container-id-1 div.sk-toggleable__content pre {margin: 0.2em;color: black;border-radius: 0.25em;background-color: #f0f8ff;}#sk-container-id-1 input.sk-toggleable__control:checked~div.sk-toggleable__content {max-height: 200px;max-width: 100%;overflow: auto;}#sk-container-id-1 input.sk-toggleable__control:checked~label.sk-toggleable__label-arrow:before {content: \"▾\";}#sk-container-id-1 div.sk-estimator input.sk-toggleable__control:checked~label.sk-toggleable__label {background-color: #d4ebff;}#sk-container-id-1 div.sk-label input.sk-toggleable__control:checked~label.sk-toggleable__label {background-color: #d4ebff;}#sk-container-id-1 input.sk-hidden--visually {border: 0;clip: rect(1px 1px 1px 1px);clip: rect(1px, 1px, 1px, 1px);height: 1px;margin: -1px;overflow: hidden;padding: 0;position: absolute;width: 1px;}#sk-container-id-1 div.sk-estimator {font-family: monospace;background-color: #f0f8ff;border: 1px dotted black;border-radius: 0.25em;box-sizing: border-box;margin-bottom: 0.5em;}#sk-container-id-1 div.sk-estimator:hover {background-color: #d4ebff;}#sk-container-id-1 div.sk-parallel-item::after {content: \"\";width: 100%;border-bottom: 1px solid gray;flex-grow: 1;}#sk-container-id-1 div.sk-label:hover label.sk-toggleable__label {background-color: #d4ebff;}#sk-container-id-1 div.sk-serial::before {content: \"\";position: absolute;border-left: 1px solid gray;box-sizing: border-box;top: 0;bottom: 0;left: 50%;z-index: 0;}#sk-container-id-1 div.sk-serial {display: flex;flex-direction: column;align-items: center;background-color: white;padding-right: 0.2em;padding-left: 0.2em;position: relative;}#sk-container-id-1 div.sk-item {position: relative;z-index: 1;}#sk-container-id-1 div.sk-parallel {display: flex;align-items: stretch;justify-content: center;background-color: white;position: relative;}#sk-container-id-1 div.sk-item::before, #sk-container-id-1 div.sk-parallel-item::before {content: \"\";position: absolute;border-left: 1px solid gray;box-sizing: border-box;top: 0;bottom: 0;left: 50%;z-index: -1;}#sk-container-id-1 div.sk-parallel-item {display: flex;flex-direction: column;z-index: 1;position: relative;background-color: white;}#sk-container-id-1 div.sk-parallel-item:first-child::after {align-self: flex-end;width: 50%;}#sk-container-id-1 div.sk-parallel-item:last-child::after {align-self: flex-start;width: 50%;}#sk-container-id-1 div.sk-parallel-item:only-child::after {width: 0;}#sk-container-id-1 div.sk-dashed-wrapped {border: 1px dashed gray;margin: 0 0.4em 0.5em 0.4em;box-sizing: border-box;padding-bottom: 0.4em;background-color: white;}#sk-container-id-1 div.sk-label label {font-family: monospace;font-weight: bold;display: inline-block;line-height: 1.2em;}#sk-container-id-1 div.sk-label-container {text-align: center;}#sk-container-id-1 div.sk-container {/* jupyter's `normalize.less` sets `[hidden] { display: none; }` but bootstrap.min.css set `[hidden] { display: none !important; }` so we also need the `!important` here to be able to override the default hidden behavior on the sphinx rendered scikit-learn.org. See: https://github.com/scikit-learn/scikit-learn/issues/21755 */display: inline-block !important;position: relative;}#sk-container-id-1 div.sk-text-repr-fallback {display: none;}</style><div id=\"sk-container-id-1\" class=\"sk-top-container\"><div class=\"sk-text-repr-fallback\"><pre>KMeans(n_clusters=9, n_init=10)</pre><b>In a Jupyter environment, please rerun this cell to show the HTML representation or trust the notebook. <br />On GitHub, the HTML representation is unable to render, please try loading this page with nbviewer.org.</b></div><div class=\"sk-container\" hidden><div class=\"sk-item\"><div class=\"sk-estimator sk-toggleable\"><input class=\"sk-toggleable__control sk-hidden--visually\" id=\"sk-estimator-id-1\" type=\"checkbox\" checked><label for=\"sk-estimator-id-1\" class=\"sk-toggleable__label sk-toggleable__label-arrow\">KMeans</label><div class=\"sk-toggleable__content\"><pre>KMeans(n_clusters=9, n_init=10)</pre></div></div></div></div></div>"
            ]
          },
          "metadata": {},
          "execution_count": 24
        }
      ]
    },
    {
      "cell_type": "code",
      "source": [
        "# Get the cluster labels and centroids\n",
        "labels = kmeans.labels_\n",
        "centroids = kmeans.cluster_centers_\n"
      ],
      "metadata": {
        "id": "YQKoBMFpgVRd"
      },
      "execution_count": 25,
      "outputs": []
    },
    {
      "cell_type": "code",
      "source": [
        "\n",
        "# Store the results\n",
        "results.append((k,labels, centroids))\n",
        "for k,labels, centroids in results:\n",
        "  print(f\"Number of clusters (k): {k}\")\n"
      ],
      "metadata": {
        "colab": {
          "base_uri": "https://localhost:8080/"
        },
        "id": "rU-AG5iTg3Zd",
        "outputId": "5e351fb1-6ea7-404a-84f1-df181f11c703"
      },
      "execution_count": 31,
      "outputs": [
        {
          "output_type": "stream",
          "name": "stdout",
          "text": [
            "Number of clusters (k): 9\n"
          ]
        }
      ]
    },
    {
      "cell_type": "code",
      "source": [
        "# Optionally, plot the clusters\n",
        "plt.scatter(X[:, 0], X[:, 1], c=labels)\n",
        "plt.scatter(centroids[:, 0], centroids[:, 1], marker='x', c='red')\n",
        "plt.xlabel('Feature 1')\n",
        "plt.ylabel('Feature 2')\n",
        "plt.title(f\"k-Means Clustering (k={k})\")\n",
        "plt.show()"
      ],
      "metadata": {
        "colab": {
          "base_uri": "https://localhost:8080/",
          "height": 472
        },
        "id": "0rW145Fch3J7",
        "outputId": "3e78ee5f-f34f-4818-eac3-5a2b28e03835"
      },
      "execution_count": 32,
      "outputs": [
        {
          "output_type": "display_data",
          "data": {
            "text/plain": [
              "<Figure size 640x480 with 1 Axes>"
            ],
            "image/png": "[encoded data removed]"
          },
          "metadata": {}
        }
      ]
    }
  ]
}