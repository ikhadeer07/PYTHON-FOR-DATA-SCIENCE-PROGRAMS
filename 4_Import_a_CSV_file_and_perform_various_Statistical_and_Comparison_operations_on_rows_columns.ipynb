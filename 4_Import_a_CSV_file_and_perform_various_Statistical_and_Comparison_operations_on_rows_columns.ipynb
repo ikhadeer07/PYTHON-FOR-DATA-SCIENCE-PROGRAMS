{
  "nbformat": 4,
  "nbformat_minor": 0,
  "metadata": {
    "colab": {
      "provenance": []
    },
    "kernelspec": {
      "name": "python3",
      "display_name": "Python 3"
    },
    "language_info": {
      "name": "python"
    }
  },
  "cells": [
    {
      "cell_type": "code",
      "source": [
        "df1 = pd.read_csv(\"data1.csv\")\n",
        "print(df1)"
      ],
      "metadata": {
        "colab": {
          "base_uri": "https://localhost:8080/"
        },
        "id": "oCl7eS-2VpPx",
        "outputId": "de47a6a9-e037-457e-a226-3f9056de5c57"
      },
      "execution_count": null,
      "outputs": [
        {
          "output_type": "stream",
          "name": "stdout",
          "text": [
            "   Tops  Coats  Pants  Tanks  Sweats\n",
            "0    15     36     21     11      27\n",
            "1    20     88     56     10      21\n",
            "2    25     89     94     19      35\n"
          ]
        }
      ]
    },
    {
      "cell_type": "code",
      "source": [
        "import pandas as pd\n",
        "\n",
        "# Read the CSV file into a DataFrame\n",
        "df = pd.read_csv('data1.csv')\n",
        "\n",
        "# Statistical operations\n",
        "minimum_value = df.min()\n",
        "maximum_value = df.max()\n",
        "mean_value = df.mean()\n",
        "median_value = df.median()\n",
        "std_value = df.std()\n",
        "mode_value = df.mode().iloc[0]  # Handling multiple modes\n",
        "count_value = df.count()\n",
        "cumulative_sum = df.cumsum()\n",
        "cumulative_product = df.cumprod()\n",
        "\n",
        "print(\"Minimum value:\")\n",
        "print(minimum_value)\n",
        "\n",
        "print(\"Maximum value:\")\n",
        "print(maximum_value)\n",
        "\n",
        "print(\"Mean value:\")\n",
        "print(mean_value)\n",
        "\n",
        "print(\"Median value:\")\n",
        "print(median_value)\n",
        "\n",
        "print(\"Standard deviation:\")\n",
        "print(std_value)\n",
        "\n",
        "print(\"Mode value:\")\n",
        "print(mode_value)\n",
        "\n",
        "print(\"Count value:\")\n",
        "print(count_value)\n",
        "\n",
        "print(\"Cumulative sum:\")\n",
        "print(cumulative_sum)\n",
        "\n",
        "print(\"Cumulative product:\")\n",
        "print(cumulative_product)\n",
        "\n",
        "# Comparison operations\n",
        "result_lt_45 = df.lt(45)\n",
        "result_gt_45 = df.gt(45)\n",
        "result_le_45 = df.le(45)\n",
        "result_ge_45 = df.ge(45)\n",
        "result_eq_45 = df.eq(45)\n",
        "result_ne_45 = df.ne(45)\n",
        "\n",
        "print(\"Comparison result (less than 45):\")\n",
        "print(result_lt_45)\n",
        "\n",
        "# Perform other statistical and comparison operations as needed\n",
        "# ...\n",
        "\n",
        "# Save the DataFrame to a new CSV file (optional)\n",
        "df.to_csv('output.csv', index=False)\n"
      ],
      "metadata": {
        "colab": {
          "base_uri": "https://localhost:8080/"
        },
        "id": "blOBfM2pWGcg",
        "outputId": "9e63513f-8f1e-4b9b-a5f8-7443028dcb59"
      },
      "execution_count": null,
      "outputs": [
        {
          "output_type": "stream",
          "name": "stdout",
          "text": [
            "Minimum value:\n",
            "Tops      15\n",
            "Coats     36\n",
            "Pants     21\n",
            "Tanks     10\n",
            "Sweats    21\n",
            "dtype: int64\n",
            "Maximum value:\n",
            "Tops      25\n",
            "Coats     89\n",
            "Pants     94\n",
            "Tanks     19\n",
            "Sweats    35\n",
            "dtype: int64\n",
            "Mean value:\n",
            "Tops      20.000000\n",
            "Coats     71.000000\n",
            "Pants     57.000000\n",
            "Tanks     13.333333\n",
            "Sweats    27.666667\n",
            "dtype: float64\n",
            "Median value:\n",
            "Tops      20.0\n",
            "Coats     88.0\n",
            "Pants     56.0\n",
            "Tanks     11.0\n",
            "Sweats    27.0\n",
            "dtype: float64\n",
            "Standard deviation:\n",
            "Tops       5.000000\n",
            "Coats     30.315013\n",
            "Pants     36.510273\n",
            "Tanks      4.932883\n",
            "Sweats     7.023769\n",
            "dtype: float64\n",
            "Mode value:\n",
            "Tops      15\n",
            "Coats     36\n",
            "Pants     21\n",
            "Tanks     10\n",
            "Sweats    21\n",
            "Name: 0, dtype: int64\n",
            "Count value:\n",
            "Tops      3\n",
            "Coats     3\n",
            "Pants     3\n",
            "Tanks     3\n",
            "Sweats    3\n",
            "dtype: int64\n",
            "Cumulative sum:\n",
            "   Tops  Coats  Pants  Tanks  Sweats\n",
            "0    15     36     21     11      27\n",
            "1    35    124     77     21      48\n",
            "2    60    213    171     40      83\n",
            "Cumulative product:\n",
            "   Tops   Coats   Pants  Tanks  Sweats\n",
            "0    15      36      21     11      27\n",
            "1   300    3168    1176    110     567\n",
            "2  7500  281952  110544   2090   19845\n",
            "Comparison result (less than 45):\n",
            "   Tops  Coats  Pants  Tanks  Sweats\n",
            "0  True   True   True   True    True\n",
            "1  True  False  False   True    True\n",
            "2  True  False  False   True    True\n"
          ]
        }
      ]
    }
  ]
}