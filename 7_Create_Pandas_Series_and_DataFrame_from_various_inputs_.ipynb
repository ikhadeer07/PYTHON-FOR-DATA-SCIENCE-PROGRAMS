{
  "nbformat": 4,
  "nbformat_minor": 0,
  "metadata": {
    "colab": {
      "provenance": []
    },
    "kernelspec": {
      "name": "python3",
      "display_name": "Python 3"
    },
    "language_info": {
      "name": "python"
    }
  },
  "cells": [
    {
      "cell_type": "code",
      "execution_count": 1,
      "metadata": {
        "colab": {
          "base_uri": "https://localhost:8080/"
        },
        "id": "MA_huA8sIp1c",
        "outputId": "2799db2b-72cb-402e-d1c3-83cfb7a1c98b"
      },
      "outputs": [
        {
          "output_type": "stream",
          "name": "stdout",
          "text": [
            "Series from list:\n",
            "0    10\n",
            "1    20\n",
            "2    30\n",
            "3    40\n",
            "4    50\n",
            "dtype: int64\n",
            "\n",
            "Series from dictionary:\n",
            "A    10\n",
            "B    20\n",
            "C    30\n",
            "D    40\n",
            "E    50\n",
            "dtype: int64\n",
            "\n",
            "DataFrame from list of lists:\n",
            "   ID  Name  Age\n",
            "0   1  John   25\n",
            "1   2  Jane   30\n",
            "2   3   Sam   35\n",
            "\n",
            "DataFrame from dictionary of lists:\n",
            "   ID  Name  Age\n",
            "0   1  John   25\n",
            "1   2  Jane   30\n",
            "2   3   Sam   35\n",
            "\n",
            "DataFrame from NumPy array:\n",
            "   A  B  C\n",
            "0  1  2  3\n",
            "1  4  5  6\n",
            "2  7  8  9\n"
          ]
        }
      ],
      "source": [
        "import pandas as pd\n",
        "\n",
        "# Create a Pandas Series from a list\n",
        "data_list = [10, 20, 30, 40, 50]\n",
        "series_from_list = pd.Series(data_list)\n",
        "print(\"Series from list:\")\n",
        "print(series_from_list)\n",
        "\n",
        "# Create a Pandas Series from a dictionary\n",
        "data_dict = {'A': 10, 'B': 20, 'C': 30, 'D': 40, 'E': 50}\n",
        "series_from_dict = pd.Series(data_dict)\n",
        "print(\"\\nSeries from dictionary:\")\n",
        "print(series_from_dict)\n",
        "\n",
        "# Create a Pandas DataFrame from a list of lists\n",
        "data_nested_list = [[1, 'John', 25], [2, 'Jane', 30], [3, 'Sam', 35]]\n",
        "columns = ['ID', 'Name', 'Age']\n",
        "df_from_list = pd.DataFrame(data_nested_list, columns=columns)\n",
        "print(\"\\nDataFrame from list of lists:\")\n",
        "print(df_from_list)\n",
        "\n",
        "# Create a Pandas DataFrame from a dictionary of lists\n",
        "data_dict_of_lists = {'ID': [1, 2, 3], 'Name': ['John', 'Jane', 'Sam'], 'Age': [25, 30, 35]}\n",
        "df_from_dict_of_lists = pd.DataFrame(data_dict_of_lists)\n",
        "print(\"\\nDataFrame from dictionary of lists:\")\n",
        "print(df_from_dict_of_lists)\n",
        "\n",
        "# Create a Pandas DataFrame from a NumPy array\n",
        "import numpy as np\n",
        "data_array = np.array([[1, 2, 3], [4, 5, 6], [7, 8, 9]])\n",
        "df_from_array = pd.DataFrame(data_array, columns=['A', 'B', 'C'])\n",
        "print(\"\\nDataFrame from NumPy array:\")\n",
        "print(df_from_array)\n"
      ]
    }
  ]
}