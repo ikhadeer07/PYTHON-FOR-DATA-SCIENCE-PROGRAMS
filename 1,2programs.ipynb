{
  "nbformat": 4,
  "nbformat_minor": 0,
  "metadata": {
    "colab": {
      "provenance": [],
      "authorship_tag": "ABX9TyNuGFENFlLOuyHlCPt4g4ui",
      "include_colab_link": true
    },
    "kernelspec": {
      "name": "python3",
      "display_name": "Python 3"
    },
    "language_info": {
      "name": "python"
    }
  },
  "cells": [
    {
      "cell_type": "markdown",
      "metadata": {
        "id": "view-in-github",
        "colab_type": "text"
      },
      "source": [
        "<a href=\"https://colab.research.google.com/github/itsheeruschamber/PYTHON-FOR-DATA-SCIENCE-PROGRAMS/blob/main/1%2C2programs.ipynb\" target=\"_parent\"><img src=\"https://colab.research.google.com/assets/colab-badge.svg\" alt=\"Open In Colab\"/></a>"
      ]
    },
    {
      "cell_type": "code",
      "execution_count": 3,
      "metadata": {
        "colab": {
          "base_uri": "https://localhost:8080/"
        },
        "id": "74wbsgog_OWJ",
        "outputId": "cef831a9-29a1-4aac-ea2d-eb5ad8609cbd"
      },
      "outputs": [
        {
          "output_type": "stream",
          "name": "stdout",
          "text": [
            "[[0. 0. 0.]\n",
            " [0. 0. 0.]]\n",
            "[0 1 2 3 4 5 6 7 8 9]\n",
            "[ 1.  13.5 26. ]\n",
            "[[[0 0 0]\n",
            "  [1 1 1]\n",
            "  [2 2 2]]\n",
            "\n",
            " [[0 1 2]\n",
            "  [0 1 2]\n",
            "  [0 1 2]]]\n",
            "0.3403459433899936\n",
            "[[0.05993916 0.43083766]\n",
            " [0.24141806 0.96122891]\n",
            " [0.31889696 0.13124175]]\n"
          ]
        }
      ],
      "source": [
        "import numpy as np\n",
        "\n",
        "# np.zeros()\n",
        "zeros_array = np.zeros((2, 3))\n",
        "print(zeros_array)\n",
        "\n",
        "# np.arange()\n",
        "arange_array = np.arange(10)\n",
        "print(arange_array)\n",
        "\n",
        "# np.linspace()\n",
        "linspace_array = np.linspace(1, 26, 3)\n",
        "print(linspace_array)\n",
        "\n",
        "# np.indices()\n",
        "indices_array = np.indices((3, 3))\n",
        "print(indices_array)\n",
        "\n",
        "# np.random.rand()\n",
        "random_float = np.random.rand()\n",
        "print(random_float)\n",
        "\n",
        "random_array = np.random.rand(3, 2)\n",
        "print(random_array)\n"
      ]
    },
    {
      "cell_type": "code",
      "source": [
        "#2 Manipulation of NumPy arrays- Indexing, Slicing, Reshaping, Joining and Splitting.\n",
        "import numpy as np\n",
        "\n",
        "# Array (index)\n",
        "arr = np.array([1, 2, 3, 4])\n",
        "print(arr[2])\n",
        "# Output: 3\n",
        "\n",
        "# Slice\n",
        "arr = np.array([6, 12, 31, 45, 25, 36, 37, 66])\n",
        "print(arr[2:5])\n",
        "# Output: [31 45 25]\n",
        "\n",
        "# Reshape\n",
        "arr = np.array([1, 2, 3, 4, 5, 6, 7, 8, 9, 10, 11, 12])\n",
        "newarr = arr.reshape(3, 4)\n",
        "print(newarr)\n",
        "# Output:\n",
        "# [[ 1  2  3  4]\n",
        "#  [ 5  6  7  8]\n",
        "#  [ 9 10 11 12]]\n",
        "\n",
        "# Joining\n",
        "arr1 = np.array([1, 2, 3])\n",
        "arr2 = np.array([4, 5, 6])\n",
        "arr = np.concatenate((arr1, arr2))\n",
        "print(arr)\n",
        "\n",
        "# Splitting\n",
        "arr = np.array([1, 2, 3, 4, 5, 6])\n",
        "newarr = np.array_split(arr, 3)\n",
        "print(newarr)\n"
      ],
      "metadata": {
        "colab": {
          "base_uri": "https://localhost:8080/"
        },
        "id": "j0K0RFd0Drko",
        "outputId": "93bf20e8-123f-42d3-cbf5-409a972887af"
      },
      "execution_count": 4,
      "outputs": [
        {
          "output_type": "stream",
          "name": "stdout",
          "text": [
            "3\n",
            "[31 45 25]\n",
            "[[ 1  2  3  4]\n",
            " [ 5  6  7  8]\n",
            " [ 9 10 11 12]]\n",
            "[1 2 3 4 5 6]\n",
            "[array([1, 2]), array([3, 4]), array([5, 6])]\n"
          ]
        }
      ]
    }
  ]
}