{
  "nbformat": 4,
  "nbformat_minor": 0,
  "metadata": {
    "colab": {
      "provenance": []
    },
    "kernelspec": {
      "name": "python3",
      "display_name": "Python 3"
    },
    "language_info": {
      "name": "python"
    }
  },
  "cells": [
    {
      "cell_type": "code",
      "execution_count": 1,
      "metadata": {
        "colab": {
          "base_uri": "https://localhost:8080/"
        },
        "id": "Yagv_lnnQqfj",
        "outputId": "6c6bdf12-08eb-4361-f4fd-e8f8645325e4"
      },
      "outputs": [
        {
          "output_type": "stream",
          "name": "stdout",
          "text": [
            "[10.]\n"
          ]
        }
      ],
      "source": [
        "#Linear regression defines the relationship between dependent and independent variables\n",
        "#in below example elements of y can be divided by the elements of x. so, there is a relation between them by dividing\n",
        "#here we will predict the next of relaton b/w dependent and independent variables\n",
        "\n",
        "\n",
        "from sklearn.linear_model import LinearRegression\n",
        "X = [[1], [2], [3], [4]]  # Independent variable\n",
        "y = [2, 4, 6, 8]  # Dependent variable\n",
        "\n",
        "# Create and fit the linear regression model\n",
        "model = LinearRegression()\n",
        "model.fit(X, y)\n",
        "\n",
        "# Predict the output for a new value\n",
        "new_X = [[5]]\n",
        "prediction = model.predict(new_X)\n",
        "\n",
        "print(prediction)  # Output: [10]\n"
      ]
    },
    {
      "cell_type": "code",
      "source": [
        "\n",
        "#Logistic regression is a classification algorithm used to predict binary outcomes (0 or 1) based on one or more independent variables.\n",
        "#It uses the logistic function to model the relationship between the variables.\n",
        "#In Python, you can use libraries like scikit-learn or statsmodels to perform logistic regression. Here's an example using scikit-learn.\n",
        "\n",
        "from sklearn.linear_model import LogisticRegression\n",
        "\n",
        "# Sample data\n",
        "X = [[1], [2], [3], [4]]  # Independent variable\n",
        "y = [0, 0, 1, 1]  # Dependent variable\n",
        "\n",
        "# Create and fit the logistic regression model\n",
        "model = LogisticRegression()\n",
        "model.fit(X, y)\n",
        "\n",
        "# Predict the output for a new value\n",
        "new_X = [[5]]\n",
        "prediction = model.predict(new_X)\n",
        "\n",
        "print(prediction)  # Output: [1]\n"
      ],
      "metadata": {
        "colab": {
          "base_uri": "https://localhost:8080/"
        },
        "id": "ThXHz6PlRT20",
        "outputId": "8e4d0619-0ec2-4cbe-86de-6a72fe07c3d7"
      },
      "execution_count": 2,
      "outputs": [
        {
          "output_type": "stream",
          "name": "stdout",
          "text": [
            "[1]\n"
          ]
        }
      ]
    },
    {
      "cell_type": "code",
      "source": [
        "#Bayes' theorem is a fundamental concept in probability theory that calculates the probability of an event based on prior knowledge or information.\n",
        "#In Python, you can use the pymc3 library to perform Bayesian inference and apply Bayes' theorem. Here's a simple example:\n",
        "from scipy import stats\n",
        "\n",
        "# Define prior probabilities\n",
        "p_A = 0.3  # Prior probability of event A\n",
        "p_B_given_A = 0.8  # Probability of event B given event A\n",
        "\n",
        "# Calculate posterior probability using Bayes' theorem\n",
        "p_A_given_B = (p_B_given_A * p_A) / ((p_B_given_A * p_A) + ((1 - p_A) * (1 - p_B_given_A)))\n",
        "\n",
        "print(p_A_given_B)  # Output: 0.6153846153846154\n"
      ],
      "metadata": {
        "colab": {
          "base_uri": "https://localhost:8080/"
        },
        "id": "cKTz5SPHS0g0",
        "outputId": "42509855-e9df-4c7a-8334-1c706f19bbba"
      },
      "execution_count": 4,
      "outputs": [
        {
          "output_type": "stream",
          "name": "stdout",
          "text": [
            "0.6315789473684211\n"
          ]
        }
      ]
    }
  ]
}